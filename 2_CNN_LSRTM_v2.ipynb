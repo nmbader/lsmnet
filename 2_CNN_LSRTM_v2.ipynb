{
 "cells": [
  {
   "cell_type": "markdown",
   "metadata": {},
   "source": [
    "# Upgraded U-net model\n",
    "\n",
    "In this notebook we build and upgraded CNN (U-net), train it, generate some figures and save the model to disk\n",
    "Compared to the benchmark model, this one uses leaky ReLU instead of ReLU, batchnormalization within each convolution block, tanh activation function at the output, L1 loss instead L2, minibatch size of 16 instead of 2, and a learning rate of 0.005 instead of 0.001"
   ]
  },
  {
   "cell_type": "code",
   "execution_count": 1,
   "metadata": {
    "id": "Ytl9FDpWvv7D"
   },
   "outputs": [],
   "source": [
    "import tensorflow as tf"
   ]
  },
  {
   "cell_type": "code",
   "execution_count": 2,
   "metadata": {
    "id": "3FsPINvBvv7E"
   },
   "outputs": [],
   "source": [
    "import numpy as np\n",
    "import scipy.misc\n",
    "from tensorflow.keras import layers\n",
    "from tensorflow.keras import initializers\n",
    "from tensorflow.keras.layers import Input, Add, Dense, Activation, ZeroPadding2D, BatchNormalization, Flatten, Conv2D, Conv2DTranspose, AveragePooling2D, MaxPooling2D, GlobalMaxPooling2D, Concatenate\n",
    "#from tensorflow.keras.layers.merging.base_merge import _Merge\n",
    "from tensorflow.keras.models import Model, load_model\n",
    "# from tensorflow.keras.initializers import random_uniform, glorot_uniform, constant, identity\n",
    "from tensorflow.python.framework.ops import EagerTensor\n",
    "import matplotlib.pyplot as plt\n",
    "from matplotlib.pyplot import imshow\n",
    "\n",
    "%matplotlib inline"
   ]
  },
  {
   "cell_type": "code",
   "execution_count": 3,
   "metadata": {
    "id": "KzfyoJsOvv7G"
   },
   "outputs": [],
   "source": [
    "def LSMNet_Block(X, filters, kernel_size, strides, BatchNorm, ApplyMaxPooling, ApplyConvTransp, training=True, initializer=\"HeNormal\"):\n",
    "    \"\"\"\n",
    "    Implementation of the Path 1 in the LSMNet\n",
    "    \n",
    "    Arguments:\n",
    "    X -- input tensor of shape (m, n_H_prev, n_W_prev, n_C_prev)\n",
    "    filters -- python list of integers, defining the number of filters in the CONV layers of this block\n",
    "    kernel_size -- python list of integers, defining the size of the filters in the CONV layers of this block\n",
    "    strides -- python list of integers, defining the strides of the filters in the CONV layers of this block\n",
    "    BatchNorm -- python list of integers, defining whether or not batch normalization will take place in each layer of this block\n",
    "    training -- True: Behave in training mode\n",
    "                False: Behave in inference mode\n",
    "    initializer -- to set up the initial weights of a layer. Equals to HeNormal\n",
    "    \n",
    "    Returns:\n",
    "    X -- output of the identity block, tensor of shape (m, n_H, n_W, n_C)\n",
    "    \"\"\"\n",
    "  \n",
    "    \n",
    "    # Retrieve Filters\n",
    "    F1,   F2, FM,   FT = filters\n",
    "    BN1, BN2,      BNT = BatchNorm\n",
    "    KS1, KS2,      KST = kernel_size\n",
    "    ST1, ST2, STM, STT = strides\n",
    "\n",
    "    # Max Pooling\n",
    "    if(ApplyMaxPooling):\n",
    "        X = MaxPooling2D((FM, FM), strides=(STM, STM))(X)\n",
    "    \n",
    "    # First Convolution\n",
    "    X = Conv2D(filters = F1, kernel_size = KS1, strides = (ST1,ST1), padding = 'same', kernel_initializer = initializer)(X)\n",
    "    if BN1==1:\n",
    "        X = BatchNormalization()(X, training = training) # Default axis\n",
    "    X = Activation(tf.keras.layers.LeakyReLU())(X)\n",
    "\n",
    "    # Second Convolution\n",
    "    X = Conv2D(filters = F2, kernel_size = KS2, strides = (ST2,ST2), padding = 'same', kernel_initializer = initializer)(X)\n",
    "    if BN2==1:\n",
    "        X = BatchNormalization()(X, training = training) # Default axis\n",
    "    X = Activation(tf.keras.layers.LeakyReLU())(X)\n",
    "\n",
    "    # Transpose Convolution\n",
    "    if(ApplyConvTransp):\n",
    "        X = Conv2DTranspose(filters = FT, kernel_size = KST, strides = (STT,STT), padding='same', kernel_initializer = initializer)(X)\n",
    "        if BNT==1:\n",
    "            X = BatchNormalization()(X, training = training) # Default axis\n",
    "        # X = Activation('relu')(X)\n",
    "\n",
    "    return X"
   ]
  },
  {
   "cell_type": "code",
   "execution_count": 4,
   "metadata": {
    "id": "Tp8vYtN8vv7H"
   },
   "outputs": [],
   "source": [
    "def LSMNet_unit(X_input, training=True, initializer=\"HeNormal\"):\n",
    "    \"\"\"\n",
    "    Stage-wise implementation of the architecture of the U-Net for LSM RTM:\n",
    "    \n",
    "    Arguments:\n",
    "    X_input -- tensor input to this unit\n",
    "    training -- defines whether it is training or not\n",
    "    initializer -- defines the initializer\n",
    "\n",
    "    Returns:\n",
    "    X_output -- tensor output by this unit\n",
    "    \"\"\"\n",
    "\n",
    "    # Block 1 (2 layers, 32 filters)\n",
    "    ApplyMaxPooling = 0\n",
    "    ApplyConvTransp = 0\n",
    "    filters     = [32, 32, 0, 0]\n",
    "    kernel_size = [ 3,  3,    0]\n",
    "    strides     = [ 1,  1, 0, 0]\n",
    "    BatchNorm   = [ 1,  1,    0]\n",
    "    X_block1 = LSMNet_Block(X_input, filters, kernel_size, strides, BatchNorm, ApplyMaxPooling, ApplyConvTransp, training=training, initializer=\"he_normal\")\n",
    "\n",
    "    # Block 3 (3 layers, 64 filters)\n",
    "    ApplyMaxPooling = 1\n",
    "    ApplyConvTransp = 0\n",
    "    filters     = [64, 64, 1, 0]\n",
    "    kernel_size = [ 3,  3,    0]\n",
    "    strides     = [ 1,  1, 2, 0]\n",
    "    BatchNorm   = [ 1,  1,    0]\n",
    "    X_block3 = LSMNet_Block(X_block1, filters, kernel_size, strides, BatchNorm, ApplyMaxPooling, ApplyConvTransp, training=training, initializer=\"he_normal\")\n",
    "\n",
    "    # Block 5 (3 layers, 128 filters)\n",
    "    ApplyMaxPooling = 1\n",
    "    ApplyConvTransp = 1\n",
    "    filters     = [128, 128, 1, 64]\n",
    "    kernel_size = [  3,   3,     3]\n",
    "    strides     = [  1,   1, 2,  2]\n",
    "    BatchNorm   = [  1,   1,     0]\n",
    "    X_block5 = LSMNet_Block(X_block3, filters, kernel_size, strides, BatchNorm, ApplyMaxPooling, ApplyConvTransp, training=training, initializer=\"he_normal\")\n",
    "\n",
    "    # Concatenation 3-5\n",
    "    X_cat35 = Concatenate(axis=3)([X_block3, X_block5])\n",
    "    \n",
    "    # Block 4 (2 layers, 64 filters)\n",
    "    ApplyMaxPooling = 0\n",
    "    ApplyConvTransp = 1\n",
    "    filters     = [64, 64, 0, 32]\n",
    "    kernel_size = [ 3,  3,     3]\n",
    "    strides     = [ 1,  1, 0,  2]\n",
    "    BatchNorm   = [ 1,  1,     0]\n",
    "    X_block4 = LSMNet_Block(X_cat35, filters, kernel_size, strides, BatchNorm, ApplyMaxPooling, ApplyConvTransp, training=training, initializer=\"he_normal\")\n",
    "\n",
    "    # Concatenation 1-4\n",
    "    X_cat14 = Concatenate(axis=3)([X_block1, X_block4])\n",
    "    \n",
    "    # Block 2 (3 layers, 32 filters)\n",
    "    ApplyMaxPooling = 0\n",
    "    ApplyConvTransp = 0\n",
    "    filters     = [32, 32, 0,  0]\n",
    "    kernel_size = [ 3,  3,     0]\n",
    "    strides     = [ 1,  1, 0,  0]\n",
    "    BatchNorm   = [ 1,  1,     0]\n",
    "    X_block2 = LSMNet_Block(X_cat14, filters, kernel_size, strides, BatchNorm, ApplyMaxPooling, ApplyConvTransp, training=training, initializer=\"he_normal\")\n",
    "\n",
    "\n",
    "    # Final Convolution\n",
    "    X_end = Conv2D(filters = 1, kernel_size = 3, strides = (1,1), padding = 'same', kernel_initializer = \"he_normal\")(X_block2)\n",
    "#     X_end = Activation('relu')(X_end)\n",
    "\n",
    "\n",
    "    # Output layer\n",
    "    # X_sumInpBlock2 = Add()([X_input,X_block2])\n",
    "    X_add        = Add()([X_input,X_end])\n",
    "    X_output     = tf.keras.activations.tanh(X_add)\n",
    "    \n",
    "#     X_normAxis3  = BatchNormalization(axis = 3)(X_add      , training = training) # Default axis\n",
    "#     X_output     = BatchNormalization(axis = 2)(X_normAxis3, training = training) # Default axis\n",
    "#     X_output = Activation('tanh')(X_add)\n",
    "\n",
    "    return X_output"
   ]
  },
  {
   "cell_type": "code",
   "execution_count": 5,
   "metadata": {
    "id": "d2BGNsVpvv7J"
   },
   "outputs": [],
   "source": [
    "def LSMNet_model(input_shape = (400, 200, 1), training=True, initializer=\"he_normal\"):\n",
    "    \"\"\"\n",
    "    Arguments:\n",
    "    input_shape -- shape of the images of the dataset\n",
    "    training -- defines whether it is training or not\n",
    "    initializer -- defines the initializer\n",
    "\n",
    "    Returns:\n",
    "    model -- a Model() instance in Keras\n",
    "    \"\"\"\n",
    "    \n",
    "    # Define the input as a tensor with shape input_shape\n",
    "    X_input = Input(input_shape)\n",
    "    X_output = LSMNet_unit(X_input, training=True, initializer=initializer)\n",
    "    \n",
    "    # Create model\n",
    "    model = Model(inputs = X_input, outputs = X_output)\n",
    "\n",
    "    return model"
   ]
  },
  {
   "cell_type": "code",
   "execution_count": 6,
   "metadata": {
    "colab": {
     "base_uri": "https://localhost:8080/"
    },
    "id": "yEj2JsGkvv7K",
    "outputId": "9962a7c6-1d57-41bb-9451-8fe70c6e54b1",
    "scrolled": false
   },
   "outputs": [
    {
     "name": "stdout",
     "output_type": "stream",
     "text": [
      "Model: \"model\"\n",
      "__________________________________________________________________________________________________\n",
      "Layer (type)                    Output Shape         Param #     Connected to                     \n",
      "==================================================================================================\n",
      "input_1 (InputLayer)            [(None, 256, 128, 1) 0                                            \n",
      "__________________________________________________________________________________________________\n",
      "conv2d (Conv2D)                 (None, 256, 128, 32) 320         input_1[0][0]                    \n",
      "__________________________________________________________________________________________________\n",
      "batch_normalization (BatchNorma (None, 256, 128, 32) 128         conv2d[0][0]                     \n",
      "__________________________________________________________________________________________________\n",
      "activation (Activation)         (None, 256, 128, 32) 0           batch_normalization[0][0]        \n",
      "__________________________________________________________________________________________________\n",
      "conv2d_1 (Conv2D)               (None, 256, 128, 32) 9248        activation[0][0]                 \n",
      "__________________________________________________________________________________________________\n",
      "batch_normalization_1 (BatchNor (None, 256, 128, 32) 128         conv2d_1[0][0]                   \n",
      "__________________________________________________________________________________________________\n",
      "activation_1 (Activation)       (None, 256, 128, 32) 0           batch_normalization_1[0][0]      \n",
      "__________________________________________________________________________________________________\n",
      "max_pooling2d (MaxPooling2D)    (None, 128, 64, 32)  0           activation_1[0][0]               \n",
      "__________________________________________________________________________________________________\n",
      "conv2d_2 (Conv2D)               (None, 128, 64, 64)  18496       max_pooling2d[0][0]              \n",
      "__________________________________________________________________________________________________\n",
      "batch_normalization_2 (BatchNor (None, 128, 64, 64)  256         conv2d_2[0][0]                   \n",
      "__________________________________________________________________________________________________\n",
      "activation_2 (Activation)       (None, 128, 64, 64)  0           batch_normalization_2[0][0]      \n",
      "__________________________________________________________________________________________________\n",
      "conv2d_3 (Conv2D)               (None, 128, 64, 64)  36928       activation_2[0][0]               \n",
      "__________________________________________________________________________________________________\n",
      "batch_normalization_3 (BatchNor (None, 128, 64, 64)  256         conv2d_3[0][0]                   \n",
      "__________________________________________________________________________________________________\n",
      "activation_3 (Activation)       (None, 128, 64, 64)  0           batch_normalization_3[0][0]      \n",
      "__________________________________________________________________________________________________\n",
      "max_pooling2d_1 (MaxPooling2D)  (None, 64, 32, 64)   0           activation_3[0][0]               \n",
      "__________________________________________________________________________________________________\n",
      "conv2d_4 (Conv2D)               (None, 64, 32, 128)  73856       max_pooling2d_1[0][0]            \n",
      "__________________________________________________________________________________________________\n",
      "batch_normalization_4 (BatchNor (None, 64, 32, 128)  512         conv2d_4[0][0]                   \n",
      "__________________________________________________________________________________________________\n",
      "activation_4 (Activation)       (None, 64, 32, 128)  0           batch_normalization_4[0][0]      \n",
      "__________________________________________________________________________________________________\n",
      "conv2d_5 (Conv2D)               (None, 64, 32, 128)  147584      activation_4[0][0]               \n",
      "__________________________________________________________________________________________________\n",
      "batch_normalization_5 (BatchNor (None, 64, 32, 128)  512         conv2d_5[0][0]                   \n",
      "__________________________________________________________________________________________________\n",
      "activation_5 (Activation)       (None, 64, 32, 128)  0           batch_normalization_5[0][0]      \n",
      "__________________________________________________________________________________________________\n",
      "conv2d_transpose (Conv2DTranspo (None, 128, 64, 64)  73792       activation_5[0][0]               \n",
      "__________________________________________________________________________________________________\n",
      "concatenate (Concatenate)       (None, 128, 64, 128) 0           activation_3[0][0]               \n",
      "                                                                 conv2d_transpose[0][0]           \n",
      "__________________________________________________________________________________________________\n",
      "conv2d_6 (Conv2D)               (None, 128, 64, 64)  73792       concatenate[0][0]                \n",
      "__________________________________________________________________________________________________\n",
      "batch_normalization_6 (BatchNor (None, 128, 64, 64)  256         conv2d_6[0][0]                   \n",
      "__________________________________________________________________________________________________\n",
      "activation_6 (Activation)       (None, 128, 64, 64)  0           batch_normalization_6[0][0]      \n",
      "__________________________________________________________________________________________________\n",
      "conv2d_7 (Conv2D)               (None, 128, 64, 64)  36928       activation_6[0][0]               \n",
      "__________________________________________________________________________________________________\n",
      "batch_normalization_7 (BatchNor (None, 128, 64, 64)  256         conv2d_7[0][0]                   \n",
      "__________________________________________________________________________________________________\n",
      "activation_7 (Activation)       (None, 128, 64, 64)  0           batch_normalization_7[0][0]      \n",
      "__________________________________________________________________________________________________\n",
      "conv2d_transpose_1 (Conv2DTrans (None, 256, 128, 32) 18464       activation_7[0][0]               \n",
      "__________________________________________________________________________________________________\n",
      "concatenate_1 (Concatenate)     (None, 256, 128, 64) 0           activation_1[0][0]               \n",
      "                                                                 conv2d_transpose_1[0][0]         \n",
      "__________________________________________________________________________________________________\n",
      "conv2d_8 (Conv2D)               (None, 256, 128, 32) 18464       concatenate_1[0][0]              \n",
      "__________________________________________________________________________________________________\n",
      "batch_normalization_8 (BatchNor (None, 256, 128, 32) 128         conv2d_8[0][0]                   \n",
      "__________________________________________________________________________________________________\n",
      "activation_8 (Activation)       (None, 256, 128, 32) 0           batch_normalization_8[0][0]      \n",
      "__________________________________________________________________________________________________\n",
      "conv2d_9 (Conv2D)               (None, 256, 128, 32) 9248        activation_8[0][0]               \n",
      "__________________________________________________________________________________________________\n",
      "batch_normalization_9 (BatchNor (None, 256, 128, 32) 128         conv2d_9[0][0]                   \n",
      "__________________________________________________________________________________________________\n",
      "activation_9 (Activation)       (None, 256, 128, 32) 0           batch_normalization_9[0][0]      \n",
      "__________________________________________________________________________________________________\n",
      "conv2d_10 (Conv2D)              (None, 256, 128, 1)  289         activation_9[0][0]               \n",
      "__________________________________________________________________________________________________\n",
      "add (Add)                       (None, 256, 128, 1)  0           input_1[0][0]                    \n",
      "                                                                 conv2d_10[0][0]                  \n",
      "__________________________________________________________________________________________________\n",
      "tf_op_layer_Tanh (TensorFlowOpL [(None, 256, 128, 1) 0           add[0][0]                        \n",
      "==================================================================================================\n",
      "Total params: 519,969\n",
      "Trainable params: 518,689\n",
      "Non-trainable params: 1,280\n",
      "__________________________________________________________________________________________________\n",
      "None\n"
     ]
    }
   ],
   "source": [
    "# Build the baseline U-net model\n",
    "LSMNet = LSMNet_model(input_shape = (256, 128, 1), training=True, initializer=\"HeNormal\")\n",
    "print(LSMNet.summary())"
   ]
  },
  {
   "cell_type": "code",
   "execution_count": 9,
   "metadata": {
    "id": "ZPP9JYcLvv7L"
   },
   "outputs": [],
   "source": [
    "# Build the optimizer and compile\n",
    "opt = tf.keras.optimizers.Adam(learning_rate=0.005)\n",
    "LSMNet.compile(optimizer=opt,\n",
    "              loss='mean_absolute_error',\n",
    "              metrics=[tf.keras.metrics.RootMeanSquaredError(), tf.keras.metrics.CosineSimilarity()])"
   ]
  },
  {
   "cell_type": "code",
   "execution_count": 10,
   "metadata": {
    "colab": {
     "base_uri": "https://localhost:8080/"
    },
    "id": "4-CqTtR6n8jI",
    "outputId": "b139e063-ab0a-4fcc-e088-c91f71181117"
   },
   "outputs": [
    {
     "name": "stdout",
     "output_type": "stream",
     "text": [
      "/sep/nmbader/data/cs230/mig2_batch0_augmented.npy\n",
      "/sep/nmbader/data/cs230/mig1_batch0_augmented.npy\n",
      "/sep/nmbader/data/cs230/mig2_batch64_augmented.npy\n",
      "/sep/nmbader/data/cs230/mig1_batch64_augmented.npy\n",
      "/sep/nmbader/data/cs230/mig2_batch128_augmented.npy\n",
      "/sep/nmbader/data/cs230/mig1_batch128_augmented.npy\n",
      "/sep/nmbader/data/cs230/mig2_batch192_augmented.npy\n",
      "/sep/nmbader/data/cs230/mig1_batch192_augmented.npy\n",
      "/sep/nmbader/data/cs230/mig2_batch256_augmented.npy\n",
      "/sep/nmbader/data/cs230/mig1_batch256_augmented.npy\n",
      "/sep/nmbader/data/cs230/mig2_batch320_augmented.npy\n",
      "/sep/nmbader/data/cs230/mig1_batch320_augmented.npy\n",
      "/sep/nmbader/data/cs230/mig2_batch384_augmented.npy\n",
      "/sep/nmbader/data/cs230/mig1_batch384_augmented.npy\n",
      "/sep/nmbader/data/cs230/mig2_batch448_augmented.npy\n",
      "/sep/nmbader/data/cs230/mig1_batch448_augmented.npy\n",
      "/sep/nmbader/data/cs230/mig2_batch512_augmented.npy\n",
      "/sep/nmbader/data/cs230/mig1_batch512_augmented.npy\n",
      "/sep/nmbader/data/cs230/mig2_batch576_augmented.npy\n",
      "/sep/nmbader/data/cs230/mig1_batch576_augmented.npy\n",
      "/sep/nmbader/data/cs230/mig2_batch640_augmented.npy\n",
      "/sep/nmbader/data/cs230/mig1_batch640_augmented.npy\n",
      "/sep/nmbader/data/cs230/mig2_batch704_augmented.npy\n",
      "/sep/nmbader/data/cs230/mig1_batch704_augmented.npy\n",
      "/sep/nmbader/data/cs230/mig2_batch768_augmented.npy\n",
      "/sep/nmbader/data/cs230/mig1_batch768_augmented.npy\n",
      "/sep/nmbader/data/cs230/mig2_batch832_augmented.npy\n",
      "/sep/nmbader/data/cs230/mig1_batch832_augmented.npy\n",
      "Validation data\n",
      "/sep/nmbader/data/cs230/mig2_batch896_augmented.npy\n",
      "/sep/nmbader/data/cs230/mig1_batch896_augmented.npy\n"
     ]
    }
   ],
   "source": [
    "# Load the training and validation data\n",
    "ntraining_file = 14\n",
    "nexamples=512\n",
    "nw=256\n",
    "nh=128\n",
    "nc=1\n",
    "training_data=np.zeros((ntraining_file*nexamples,nw,nh))\n",
    "training_labels=np.zeros((ntraining_file*nexamples,nw,nh))\n",
    "\n",
    "validation_data=np.zeros((nexamples,nw,nh))\n",
    "validation_labels=np.zeros((nexamples,nw,nh))\n",
    "\n",
    "prefix0=\"/sep/nmbader/data/cs230/\"\n",
    "prefix1=\"mig1_batch\"\n",
    "prefix2=\"mig2_batch\"\n",
    "suffix=\"_augmented.npy\"\n",
    "for i in range(0,ntraining_file):\n",
    "  filename=prefix0+prefix2+str(i*64)+suffix\n",
    "  print(filename)\n",
    "  training_data[i*nexamples:(i+1)*nexamples] = np.load(filename)\n",
    "  filename=prefix0+prefix1+str(i*64)+suffix\n",
    "  print(filename)\n",
    "  training_labels[i*nexamples:(i+1)*nexamples] = np.load(filename)\n",
    "\n",
    "print(\"Validation data\")\n",
    "filename=prefix0+prefix2+str(ntraining_file*64)+suffix\n",
    "print(filename)\n",
    "validation_data[:] = np.load(filename)\n",
    "filename=prefix0+prefix1+str(ntraining_file*64)+suffix\n",
    "validation_labels[:] = np.load(filename)\n",
    "print(filename)"
   ]
  },
  {
   "cell_type": "code",
   "execution_count": 11,
   "metadata": {
    "id": "vEQPfCYzvv7M"
   },
   "outputs": [],
   "source": [
    "# convert to tensorflow and reshape\n",
    "training_data = tf.convert_to_tensor(training_data)\n",
    "training_labels = tf.convert_to_tensor(training_labels)\n",
    "\n",
    "validation_data = tf.convert_to_tensor(validation_data)\n",
    "validation_labels = tf.convert_to_tensor(validation_labels)\n",
    "\n",
    "training_data=tf.reshape(training_data, [nexamples*ntraining_file, nw, nh, nc])\n",
    "training_labels=tf.reshape(training_labels, [nexamples*ntraining_file, nw, nh, nc])\n",
    "\n",
    "validation_data=tf.reshape(validation_data, [nexamples, nw, nh, nc])\n",
    "validation_labels=tf.reshape(validation_labels, [nexamples, nw, nh, nc])"
   ]
  },
  {
   "cell_type": "code",
   "execution_count": 12,
   "metadata": {
    "colab": {
     "base_uri": "https://localhost:8080/"
    },
    "id": "eBHUYuscvv7Q",
    "outputId": "04bb163e-fd31-44ea-e00c-6c0622262cf0"
   },
   "outputs": [
    {
     "name": "stdout",
     "output_type": "stream",
     "text": [
      "Epoch 1/21\n",
      "448/448 [==============================] - 371s 827ms/step - loss: 0.0363 - root_mean_squared_error: 0.0809 - cosine_similarity: 0.6489 - val_loss: 0.0249 - val_root_mean_squared_error: 0.0447 - val_cosine_similarity: 0.7108\n",
      "Epoch 2/21\n",
      "448/448 [==============================] - 369s 824ms/step - loss: 0.0237 - root_mean_squared_error: 0.0447 - cosine_similarity: 0.7222 - val_loss: 0.0214 - val_root_mean_squared_error: 0.0387 - val_cosine_similarity: 0.7381\n",
      "Epoch 3/21\n",
      "448/448 [==============================] - 374s 835ms/step - loss: 0.0219 - root_mean_squared_error: 0.0420 - cosine_similarity: 0.7358 - val_loss: 0.0202 - val_root_mean_squared_error: 0.0389 - val_cosine_similarity: 0.7519\n",
      "Epoch 4/21\n",
      "448/448 [==============================] - 370s 827ms/step - loss: 0.0194 - root_mean_squared_error: 0.0361 - cosine_similarity: 0.7523 - val_loss: 0.0187 - val_root_mean_squared_error: 0.0343 - val_cosine_similarity: 0.7580\n",
      "Epoch 5/21\n",
      "448/448 [==============================] - 368s 822ms/step - loss: 0.0182 - root_mean_squared_error: 0.0336 - cosine_similarity: 0.7574 - val_loss: 0.0167 - val_root_mean_squared_error: 0.0296 - val_cosine_similarity: 0.7648\n",
      "Epoch 6/21\n",
      "448/448 [==============================] - 371s 828ms/step - loss: 0.0170 - root_mean_squared_error: 0.0315 - cosine_similarity: 0.7620 - val_loss: 0.0159 - val_root_mean_squared_error: 0.0284 - val_cosine_similarity: 0.7716\n",
      "Epoch 7/21\n",
      "448/448 [==============================] - 371s 827ms/step - loss: 0.0164 - root_mean_squared_error: 0.0301 - cosine_similarity: 0.7649 - val_loss: 0.0212 - val_root_mean_squared_error: 0.0420 - val_cosine_similarity: 0.7244\n",
      "Epoch 8/21\n",
      "448/448 [==============================] - 369s 825ms/step - loss: 0.0163 - root_mean_squared_error: 0.0304 - cosine_similarity: 0.7645 - val_loss: 0.0152 - val_root_mean_squared_error: 0.0282 - val_cosine_similarity: 0.7760\n",
      "Epoch 9/21\n",
      "448/448 [==============================] - 370s 825ms/step - loss: 0.0150 - root_mean_squared_error: 0.0273 - cosine_similarity: 0.7689 - val_loss: 0.0151 - val_root_mean_squared_error: 0.0268 - val_cosine_similarity: 0.7707\n",
      "Epoch 10/21\n",
      "448/448 [==============================] - 372s 830ms/step - loss: 0.0146 - root_mean_squared_error: 0.0268 - cosine_similarity: 0.7735 - val_loss: 0.0135 - val_root_mean_squared_error: 0.0226 - val_cosine_similarity: 0.7780\n",
      "Epoch 11/21\n",
      "448/448 [==============================] - 371s 828ms/step - loss: 0.0139 - root_mean_squared_error: 0.0251 - cosine_similarity: 0.7755 - val_loss: 0.0126 - val_root_mean_squared_error: 0.0213 - val_cosine_similarity: 0.7808\n",
      "Epoch 12/21\n",
      "448/448 [==============================] - 373s 833ms/step - loss: 0.0132 - root_mean_squared_error: 0.0238 - cosine_similarity: 0.7812 - val_loss: 0.0123 - val_root_mean_squared_error: 0.0209 - val_cosine_similarity: 0.7660\n",
      "Epoch 13/21\n",
      "448/448 [==============================] - 370s 825ms/step - loss: 0.0133 - root_mean_squared_error: 0.0242 - cosine_similarity: 0.7794 - val_loss: 0.0122 - val_root_mean_squared_error: 0.0204 - val_cosine_similarity: 0.7837\n",
      "Epoch 14/21\n",
      "448/448 [==============================] - 370s 826ms/step - loss: 0.0127 - root_mean_squared_error: 0.0228 - cosine_similarity: 0.7835 - val_loss: 0.0126 - val_root_mean_squared_error: 0.0219 - val_cosine_similarity: 0.7883\n",
      "Epoch 15/21\n",
      "448/448 [==============================] - 370s 826ms/step - loss: 0.0122 - root_mean_squared_error: 0.0217 - cosine_similarity: 0.7861 - val_loss: 0.0113 - val_root_mean_squared_error: 0.0186 - val_cosine_similarity: 0.7950\n",
      "Epoch 16/21\n",
      "448/448 [==============================] - 372s 831ms/step - loss: 0.0136 - root_mean_squared_error: 0.0247 - cosine_similarity: 0.7776 - val_loss: 0.0122 - val_root_mean_squared_error: 0.0202 - val_cosine_similarity: 0.7913\n",
      "Epoch 17/21\n",
      "448/448 [==============================] - 373s 833ms/step - loss: 0.0119 - root_mean_squared_error: 0.0208 - cosine_similarity: 0.7876 - val_loss: 0.0115 - val_root_mean_squared_error: 0.0196 - val_cosine_similarity: 0.7854\n",
      "Epoch 18/21\n",
      "448/448 [==============================] - 374s 835ms/step - loss: 0.0115 - root_mean_squared_error: 0.0202 - cosine_similarity: 0.7887 - val_loss: 0.0107 - val_root_mean_squared_error: 0.0180 - val_cosine_similarity: 0.7960\n",
      "Epoch 19/21\n",
      "448/448 [==============================] - 371s 829ms/step - loss: 0.0111 - root_mean_squared_error: 0.0195 - cosine_similarity: 0.7914 - val_loss: 0.0106 - val_root_mean_squared_error: 0.0180 - val_cosine_similarity: 0.8006\n",
      "Epoch 20/21\n",
      "448/448 [==============================] - 373s 832ms/step - loss: 0.0108 - root_mean_squared_error: 0.0190 - cosine_similarity: 0.7932 - val_loss: 0.0101 - val_root_mean_squared_error: 0.0164 - val_cosine_similarity: 0.7968\n",
      "Epoch 21/21\n",
      "448/448 [==============================] - 373s 832ms/step - loss: 0.0107 - root_mean_squared_error: 0.0187 - cosine_similarity: 0.7922 - val_loss: 0.0104 - val_root_mean_squared_error: 0.0174 - val_cosine_similarity: 0.7945\n"
     ]
    }
   ],
   "source": [
    "# run the training\n",
    "EPOCHS = 21\n",
    "BATCH_SIZE = 16\n",
    "model_history = LSMNet.fit(\n",
    "    x=training_data, \n",
    "    y=training_labels, \n",
    "    batch_size=BATCH_SIZE, \n",
    "    epochs=EPOCHS, \n",
    "    validation_data=(validation_data, validation_labels)\n",
    ")"
   ]
  },
  {
   "cell_type": "code",
   "execution_count": 13,
   "metadata": {
    "colab": {
     "base_uri": "https://localhost:8080/",
     "height": 227
    },
    "id": "79eauMtV3VNJ",
    "outputId": "0880a571-958e-4029-ea2e-5a8f8f938cc1"
   },
   "outputs": [
    {
     "name": "stdout",
     "output_type": "stream",
     "text": [
      "WARNING:tensorflow:From /sep/nmbader/anaconda3/lib/python3.8/site-packages/tensorflow/python/ops/resource_variable_ops.py:1813: calling BaseResourceVariable.__init__ (from tensorflow.python.ops.resource_variable_ops) with constraint is deprecated and will be removed in a future version.\n",
      "Instructions for updating:\n",
      "If using Keras pass *_constraint arguments to layers.\n",
      "INFO:tensorflow:Assets written to: /sep/nmbader/data/cs230/LSMNet_v2/assets\n"
     ]
    }
   ],
   "source": [
    "# save the model and history\n",
    "LSMNet.save(prefix0+'LSMNet_v2')\n",
    "np.save(prefix0+'LSMNet_v2_history.npy',model_history.history)"
   ]
  },
  {
   "cell_type": "code",
   "execution_count": 14,
   "metadata": {},
   "outputs": [
    {
     "data": {
      "image/png": "[encoded data removed]",
      "text/plain": [
       "<Figure size 432x288 with 1 Axes>"
      ]
     },
     "metadata": {
      "needs_background": "light"
     },
     "output_type": "display_data"
    }
   ],
   "source": [
    "plt.plot(np.linspace(1,EPOCHS,EPOCHS),model_history.history[\"loss\"]/np.max(model_history.history[\"loss\"]),label=\"Training\")\n",
    "plt.plot(np.linspace(1,EPOCHS,EPOCHS),model_history.history[\"val_loss\"]/np.max(model_history.history[\"val_loss\"]),label=\"Validation\")\n",
    "plt.xlim([1,EPOCHS])\n",
    "# plt.ylim([0, 1.1])\n",
    "plt.xlabel(\"Epoch\")\n",
    "plt.ylabel(\"Value\")\n",
    "plt.legend()\n",
    "plt.title(\"Normalized cost function\")\n",
    "plt.savefig(\"fig/LSMNet_v2_cost_func.png\")"
   ]
  },
  {
   "cell_type": "code",
   "execution_count": 15,
   "metadata": {},
   "outputs": [
    {
     "data": {
      "image/png": "[encoded data removed]",
      "text/plain": [
       "<Figure size 432x288 with 1 Axes>"
      ]
     },
     "metadata": {
      "needs_background": "light"
     },
     "output_type": "display_data"
    }
   ],
   "source": [
    "plt.plot(np.linspace(1,EPOCHS,EPOCHS),model_history.history[\"root_mean_squared_error\"]/np.max(model_history.history[\"root_mean_squared_error\"]),label=\"Training\")\n",
    "plt.plot(np.linspace(1,EPOCHS,EPOCHS),model_history.history[\"val_root_mean_squared_error\"]/np.max(model_history.history[\"val_root_mean_squared_error\"]),label=\"Validation\")\n",
    "plt.xlim([1,EPOCHS])\n",
    "# plt.ylim([0, 1.1])\n",
    "plt.xlabel(\"Epoch\")\n",
    "plt.ylabel(\"Value\")\n",
    "plt.legend()\n",
    "plt.title(\"Normalized root mean squared error\")\n",
    "plt.savefig(\"fig/LSMNet_v2_rms_error.png\")"
   ]
  },
  {
   "cell_type": "code",
   "execution_count": 16,
   "metadata": {},
   "outputs": [
    {
     "data": {
      "image/png": "[encoded data removed]",
      "text/plain": [
       "<Figure size 432x288 with 1 Axes>"
      ]
     },
     "metadata": {
      "needs_background": "light"
     },
     "output_type": "display_data"
    }
   ],
   "source": [
    "plt.plot(np.linspace(1,EPOCHS,EPOCHS),model_history.history[\"cosine_similarity\"],label=\"Training\")\n",
    "plt.plot(np.linspace(1,EPOCHS,EPOCHS),model_history.history[\"val_cosine_similarity\"],label=\"Validation\")\n",
    "plt.xlim([1,EPOCHS])\n",
    "#plt.ylim([0, 1.1])\n",
    "plt.xlabel(\"Epoch\")\n",
    "plt.ylabel(\"Value\")\n",
    "plt.legend()\n",
    "plt.title(\"Cosine similarity\")\n",
    "plt.savefig(\"fig/LSMNet_v2_cosine_similarity.png\")"
   ]
  },
  {
   "cell_type": "code",
   "execution_count": 17,
   "metadata": {
    "id": "vFTQIsIj-a6s"
   },
   "outputs": [],
   "source": [
    "# reload the model and history for checking\n",
    "model = tf.keras.models.load_model(prefix0+'LSMNet_v2')\n",
    "model_history_npy = np.load(prefix0+'LSMNet_v2_history.npy',allow_pickle='TRUE').item()"
   ]
  }
 ],
 "metadata": {
  "colab": {
   "provenance": []
  },
  "kernelspec": {
   "display_name": "Python 3",
   "language": "python",
   "name": "python3"
  },
  "language_info": {
   "codemirror_mode": {
    "name": "ipython",
    "version": 3
   },
   "file_extension": ".py",
   "mimetype": "text/x-python",
   "name": "python",
   "nbconvert_exporter": "python",
   "pygments_lexer": "ipython3",
   "version": "3.8.3"
  }
 },
 "nbformat": 4,
 "nbformat_minor": 1
}
